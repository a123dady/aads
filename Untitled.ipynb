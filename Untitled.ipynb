{
 "cells": [
  {
   "cell_type": "code",
   "execution_count": 97,
   "id": "19694e14",
   "metadata": {},
   "outputs": [],
   "source": [
    "f = open('input.txt', 'r')"
   ]
  },
  {
   "cell_type": "code",
   "execution_count": null,
   "id": "ef864478",
   "metadata": {},
   "outputs": [],
   "source": [
    "print(f)"
   ]
  },
  {
   "cell_type": "code",
   "execution_count": null,
   "id": "9c14b5e2",
   "metadata": {},
   "outputs": [],
   "source": [
    "f.read()\n"
   ]
  },
  {
   "cell_type": "code",
   "execution_count": 123,
   "id": "42c21cfd",
   "metadata": {},
   "outputs": [],
   "source": [
    "import openpyxl\n",
    "txtname = 'input.txt'\n",
    "excelname = 'sing.csv'\n",
    "fopen = open(txtname, 'r')\n",
    "lines = fopen.readlines()\n",
    "file = openpyxl.Workbook()\n",
    "sheet = file.active\n",
    "sheet.title = \"data\"\n",
    "\n",
    "i = 0\n",
    "for line in lines:\n",
    "    line = line.strip('\\t')\n",
    "    line = line.replace(\"\\t\",\",\")\n",
    "    line = line.replace(\"+\",'')\n",
    "    line = line.split(' ')\n",
    "    for index in range(len(line)):\n",
    "        sheet.cell(i+1, index+1, line[index])\n",
    "    i = i + 1\n",
    "\n",
    "file.save(excelname)"
   ]
  },
  {
   "cell_type": "code",
   "execution_count": 147,
   "id": "15fff96d",
   "metadata": {
    "scrolled": true
   },
   "outputs": [
    {
     "name": "stdout",
     "output_type": "stream",
     "text": [
      "                              0                            1    2    3    4\n",
      "0                   OptSimExpXY                          NaN  4\\n  NaN  NaN\n",
      "1                          Type                          NaN  7\\n  NaN  NaN\n",
      "2                     ChartType                          0\\n  NaN  NaN  NaN\n",
      "3                    GraphStyle                          0\\n  NaN  NaN  NaN\n",
      "4                    SamplesNum                      20481\\n  NaN  NaN  NaN\n",
      "...                         ...                          ...  ...  ...  ...\n",
      "20503  5.69042190909385680e-002  -4.57013510167598720e-002\\n  NaN  NaN  NaN\n",
      "20504  7.75117054581642150e-002  -4.31196726858615880e-002\\n  NaN  NaN  NaN\n",
      "20505  9.75725352764129640e-002  -4.02939990162849430e-002\\n  NaN  NaN  NaN\n",
      "20506  1.16849690675735470e-001  -3.72446104884147640e-002\\n  NaN  NaN  NaN\n",
      "20507  1.35132908821105960e-001  -3.39802429080009460e-002\\n  NaN  NaN  NaN\n",
      "\n",
      "[20508 rows x 5 columns]\n"
     ]
    }
   ],
   "source": [
    "import numpy as np\n",
    "import pandas as pd\n",
    "\n",
    "df=pd.read_csv('abc.csv',header=None)\n",
    "\n",
    "print(df)"
   ]
  },
  {
   "cell_type": "code",
   "execution_count": 169,
   "id": "a7249882",
   "metadata": {},
   "outputs": [],
   "source": [
    "y=df.iloc[27:100,[0,1]]"
   ]
  },
  {
   "cell_type": "code",
   "execution_count": 170,
   "id": "8c2a6016",
   "metadata": {},
   "outputs": [],
   "source": [
    "y=pd.DataFrame(y,dtype=np.float)"
   ]
  },
  {
   "cell_type": "code",
   "execution_count": 171,
   "id": "fcbc99b9",
   "metadata": {
    "scrolled": true
   },
   "outputs": [
    {
     "name": "stdout",
     "output_type": "stream",
     "text": [
      "<class 'pandas.core.frame.DataFrame'>\n",
      "RangeIndex: 73 entries, 27 to 99\n",
      "Data columns (total 2 columns):\n",
      " #   Column  Non-Null Count  Dtype  \n",
      "---  ------  --------------  -----  \n",
      " 0   0       73 non-null     float64\n",
      " 1   1       73 non-null     float64\n",
      "dtypes: float64(2)\n",
      "memory usage: 1.3 KB\n",
      "None\n"
     ]
    }
   ],
   "source": [
    "print(y.info())\n"
   ]
  },
  {
   "cell_type": "code",
   "execution_count": 172,
   "id": "c45ca075",
   "metadata": {},
   "outputs": [
    {
     "name": "stdout",
     "output_type": "stream",
     "text": [
      "[[ 0.1412067   0.1115821 ]\n",
      " [ 0.17283326  0.11706452]\n",
      " [ 0.20139818  0.1216174 ]\n",
      " [ 0.22649573  0.12502331]\n",
      " [ 0.247849    0.12707745]\n",
      " [ 0.26530924  0.12759483]\n",
      " [ 0.27885005  0.12641624]\n",
      " [ 0.28855887  0.12341376]\n",
      " [ 0.29462591  0.1184966 ]\n",
      " [ 0.29733023  0.11161673]\n",
      " [ 0.2970233   0.10277405]\n",
      " [ 0.29411069  0.0920207 ]\n",
      " [ 0.28903231  0.07946394]\n",
      " [ 0.28224289  0.06526695]\n",
      " [ 0.27419308  0.04964712]\n",
      " [ 0.26531103  0.03287233]\n",
      " [ 0.25598532  0.01525582]\n",
      " [ 0.24655046 -0.00285079]\n",
      " [ 0.23727636 -0.02106662]\n",
      " [ 0.22836128 -0.03899311]\n",
      " [ 0.21992765 -0.05622759]\n",
      " [ 0.2120214  -0.07237751]\n",
      " [ 0.20461555 -0.08707356]\n",
      " [ 0.19761956 -0.09998161]\n",
      " [ 0.1908927  -0.11081317]\n",
      " [ 0.18425913 -0.1193336 ]\n",
      " [ 0.17752303 -0.1253684 ]\n",
      " [ 0.17048323 -0.12880786]\n",
      " [ 0.16294594 -0.12960975]\n",
      " [ 0.15473597 -0.12779954]\n",
      " [ 0.14570831 -0.12346831]\n",
      " [ 0.13576025 -0.11676849]\n",
      " [ 0.12484134 -0.10790822]\n",
      " [ 0.11295877 -0.09714368]\n",
      " [ 0.10017873 -0.08476935]\n",
      " [ 0.0866253  -0.07110713]\n",
      " [ 0.0724768  -0.05649488]\n",
      " [ 0.0579588  -0.041274  ]\n",
      " [ 0.04333509 -0.02577715]\n",
      " [ 0.02889754 -0.01031667]\n",
      " [ 0.01495608  0.00482605]\n",
      " [ 0.00182944  0.01941013]\n",
      " [-0.01016386  0.03324223]\n",
      " [-0.02071473  0.04617957]\n",
      " [-0.02953332  0.05812928]\n",
      " [-0.03635954  0.0690462 ]\n",
      " [-0.04097463  0.07893049]\n",
      " [-0.04321264  0.08782343]\n",
      " [-0.04297034  0.09580042]\n",
      " [-0.04021469  0.10296202]\n",
      " [-0.03498725  0.10942449]\n",
      " [-0.02740581  0.11531039]\n",
      " [-0.01766405  0.12073937]\n",
      " [-0.00602853  0.12581988]\n",
      " [ 0.00716875  0.13064212]\n",
      " [ 0.0215421   0.13527271]\n",
      " [ 0.03666454  0.13975123]\n",
      " [ 0.0520783   0.14408965]\n",
      " [ 0.0673044   0.14827359]\n",
      " [ 0.08185389  0.15226443]\n",
      " [ 0.0952407   0.15600231]\n",
      " [ 0.10699417  0.15941025]\n",
      " [ 0.11667193  0.16239989]\n",
      " [ 0.12387408  0.16487823]\n",
      " [ 0.12825759  0.16675398]\n",
      " [ 0.12954806  0.16794354]\n",
      " [ 0.12754866  0.1683775 ]\n",
      " [ 0.12214669  0.16800596]\n",
      " [ 0.1133176   0.16680081]\n",
      " [ 0.10112549  0.16475552]\n",
      " [ 0.08572042  0.16188392]\n",
      " [ 0.06733418  0.15821756]\n",
      " [ 0.0462759   0.15380117]]\n"
     ]
    }
   ],
   "source": [
    "print(y.values)"
   ]
  },
  {
   "cell_type": "code",
   "execution_count": null,
   "id": "1a629509",
   "metadata": {},
   "outputs": [],
   "source": []
  }
 ],
 "metadata": {
  "kernelspec": {
   "display_name": "Python 3",
   "language": "python",
   "name": "python3"
  },
  "language_info": {
   "codemirror_mode": {
    "name": "ipython",
    "version": 3
   },
   "file_extension": ".py",
   "mimetype": "text/x-python",
   "name": "python",
   "nbconvert_exporter": "python",
   "pygments_lexer": "ipython3",
   "version": "3.8.8"
  }
 },
 "nbformat": 4,
 "nbformat_minor": 5
}
